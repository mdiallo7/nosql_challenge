{
 "cells": [
  {
   "cell_type": "markdown",
   "id": "9a57c4c6",
   "metadata": {},
   "source": [
    "# Eat Safe, Love"
   ]
  },
  {
   "cell_type": "markdown",
   "id": "064ef857",
   "metadata": {},
   "source": [
    "## Notebook Set Up"
   ]
  },
  {
   "cell_type": "code",
   "execution_count": null,
   "id": "3ecdd008",
   "metadata": {},
   "outputs": [],
   "source": [
    "from pymongo import MongoClient\n",
    "import pandas as pd\n",
    "from pprint import pprint"
   ]
  },
  {
   "cell_type": "code",
   "execution_count": null,
   "id": "59390c4a",
   "metadata": {},
   "outputs": [],
   "source": [
    "# Create an instance of MongoClient\n",
    "mongo = MongoClient(port=27017)"
   ]
  },
  {
   "cell_type": "code",
   "execution_count": null,
   "id": "71e373c1",
   "metadata": {},
   "outputs": [],
   "source": [
    "# assign the uk_food database to a variable name\n",
    "db = mongo['uk_food']"
   ]
  },
  {
   "cell_type": "code",
   "execution_count": null,
   "id": "18ab463c",
   "metadata": {},
   "outputs": [],
   "source": [
    "# review the collections in our database\n",
    "print(db.list_collection_names())"
   ]
  },
  {
   "cell_type": "code",
   "execution_count": null,
   "id": "11c9f11b",
   "metadata": {},
   "outputs": [],
   "source": [
    "# assign the collection to a variable\n",
    "establishments = db['establishments']"
   ]
  },
  {
   "cell_type": "markdown",
   "id": "d5671434",
   "metadata": {},
   "source": [
    "## Part 3: Exploratory Analysis\n",
    "Unless otherwise stated, for each question: \n",
    "* Use `count_documents` to display the number of documents contained in the result.\n",
    "* Display the first document in the results using `pprint`.\n",
    "* Convert the result to a Pandas DataFrame, print the number of rows in the DataFrame, and display the first 10 rows."
   ]
  },
  {
   "cell_type": "markdown",
   "id": "314bd884",
   "metadata": {},
   "source": [
    "### 1. Which establishments have a hygiene score equal to 20?"
   ]
  },
  {
   "cell_type": "code",
   "execution_count": null,
   "id": "c2da7648",
   "metadata": {},
   "outputs": [],
   "source": [
    "# Find the establishments with a hygiene score of 20\n",
    "query  = {'scores.Hygiene': 20}\n",
    "\n",
    "# Use count_documents to display the number of documents in the result\n",
    "result = establishments.count_documents(query)\n",
    "result\n",
    "\n",
    "# Display the first document in the results using pprint\n",
    "establishments.find_one(query)"
   ]
  },
  {
   "cell_type": "code",
   "execution_count": null,
   "id": "a6e5cece",
   "metadata": {},
   "outputs": [],
   "source": [
    "# Convert the result to a Pandas DataFrame\n",
    "\n",
    "query_result = establishments.find()\n",
    "results = list(query_result)\n",
    "result_df = pd.DataFrame(results)\n",
    "result_df\n",
    "\n",
    "# Display the number of rows in the DataFrame\n",
    "\n",
    "print(\"Rows in DataFrame: \", len(result_df))\n",
    "\n",
    "# Display the first 10 rows of the DataFrame\n",
    "\n",
    "result_df.head(10)\n"
   ]
  },
  {
   "cell_type": "markdown",
   "id": "0ef4395a",
   "metadata": {},
   "source": [
    "### 2. Which establishments in London have a `RatingValue` greater than or equal to 4?"
   ]
  },
  {
   "cell_type": "code",
   "execution_count": null,
   "id": "93c63829",
   "metadata": {},
   "outputs": [],
   "source": [
    "# Find the establishments with London as the Local Authority and has a RatingValue greater than or equal to 4.\n",
    "\n",
    "query_london = {'LocalAuthority': 'London', \n",
    "            'RatingValue': {'$gte' : 4}}\n",
    "cursor = establishments.find(query_london)\n",
    "\n",
    "# Use count_documents to display the number of documents in the result\n",
    "\n",
    "result_london = establishments.count_documents(query_london)\n",
    "result_london\n",
    "# Display the first document in the results using pprint\n",
    "\n",
    "pprint(result_london)"
   ]
  },
  {
   "cell_type": "code",
   "execution_count": null,
   "id": "07e24ccb",
   "metadata": {},
   "outputs": [],
   "source": [
    "# Convert the result to a Pandas DataFrame\n",
    "\n",
    "london_result = establishments.find(query_london)\n",
    "result_london = list(london_result)\n",
    "london_df = pd.DataFrame(result_london)\n",
    "london_df\n",
    "\n",
    "# Display the number of rows in the DataFrame\n",
    "\n",
    "print(\"Rows in DataFrame: \", len(london_df))\n",
    "\n",
    "# Display the first 10 rows of the DataFrame\n",
    "\n",
    "london_df.head(10)\n"
   ]
  },
  {
   "attachments": {},
   "cell_type": "markdown",
   "id": "4e570caf",
   "metadata": {},
   "source": [
    "### 3. What are the top 5 establishments with a `RatingValue` rating value of 5, sorted by lowest hygiene score, nearest to the new restaurant added, \"Penang Flavours\"?"
   ]
  },
  {
   "cell_type": "code",
   "execution_count": null,
   "id": "7f599f3d",
   "metadata": {},
   "outputs": [],
   "source": [
    "# Search within 0.01 degree on either side of the latitude and longitude.\n",
    "# Rating value must equal 5\n",
    "# Sort by hygiene score\n",
    "\n",
    "\n",
    "degree_search = 0.01\n",
    "latitude = {'geocode.latitude'}\n",
    "longitude = {'geocode.longitude'}\n",
    "\n",
    "query = {\n",
    "    \"geocode\": {\n",
    "        \"$geoWithin\": {\n",
    "            \"$box\": [\n",
    "                [longitude - degree_search, latitude - degree_search],\n",
    "                [longitude + degree_search, latitude + degree_search]\n",
    "            ]\n",
    "        }\n",
    "    },\n",
    "    'RatingValue': 5\n",
    "}\n",
    "\n",
    "\n",
    "sort = establishments.find(query).sort(\"scores.hygiene\", -1)\n",
    "limit = establishments.find(query).sort(\"scores.hygiene\", -1).limit(10)\n",
    "\n",
    "# Print the results\n",
    "for result in limit:\n",
    "    print(result)"
   ]
  },
  {
   "cell_type": "code",
   "execution_count": null,
   "id": "a6ad16f7",
   "metadata": {},
   "outputs": [],
   "source": [
    "# Convert result to Pandas DataFrame\n",
    "result_geo = list(limit)\n",
    "geo_df = pd.DataFrame(result_geo)\n",
    "geo_df"
   ]
  },
  {
   "cell_type": "markdown",
   "id": "67281254",
   "metadata": {},
   "source": [
    "### 4. How many establishments in each Local Authority area have a hygiene score of 0?"
   ]
  },
  {
   "cell_type": "code",
   "execution_count": null,
   "id": "4eeb227e",
   "metadata": {},
   "outputs": [],
   "source": [
    "# Create a pipeline that:\n",
    "# 1. Matches establishments with a hygiene score of 0\n",
    "# 2. Groups the matches by Local Authority\n",
    "# 3. Sorts the matches from highest to lowest\n",
    "query_h = [{'$match':{'scores.hygiene': 0, '$group':{\"_id\": '$LocalAuthorityName', '$short':{'count': -1}}}}]\n",
    "\n",
    "results_hygiene = list(establishments.aggregate(query_h))\n",
    "\n",
    "# Print the number of documents in the result\n",
    "\n",
    "print(\"Number of documents:\", len(results_hygiene))\n",
    "\n",
    "# Print the first 10 results\n",
    "query_h_10 = query_h[{\"$limit\": 10}]\n",
    "query_h_10_list = list(query_h_10)\n",
    "for result in query_h_10_list:\n",
    "    print(result)\n",
    "\n"
   ]
  },
  {
   "cell_type": "code",
   "execution_count": null,
   "id": "d8aab364",
   "metadata": {},
   "outputs": [],
   "source": [
    "# Convert the result to a Pandas DataFrame\n",
    "\n",
    "hygiene_df = pd.DataFrame(results_hygiene)\n",
    "\n",
    "# Display the number of rows in the DataFrame\n",
    "\n",
    "print(\"Rows in DataFrame: \", len(hygiene_df))\n",
    "\n",
    "\n",
    "# Display the first 10 rows of the DataFrame\n",
    "hygiene_df.head(10)"
   ]
  }
 ],
 "metadata": {
  "kernelspec": {
   "display_name": "Python 3 (ipykernel)",
   "language": "python",
   "name": "python3"
  },
  "language_info": {
   "codemirror_mode": {
    "name": "ipython",
    "version": 3
   },
   "file_extension": ".py",
   "mimetype": "text/x-python",
   "name": "python",
   "nbconvert_exporter": "python",
   "pygments_lexer": "ipython3",
   "version": "3.11.5"
  }
 },
 "nbformat": 4,
 "nbformat_minor": 5
}
